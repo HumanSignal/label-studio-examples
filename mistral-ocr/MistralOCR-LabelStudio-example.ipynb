{
 "cells": [
  {
   "cell_type": "code",
   "execution_count": 1,
   "id": "b8d87ba1-2b2d-48fc-835e-36fcc9adb0ac",
   "metadata": {},
   "outputs": [
    {
     "name": "stdout",
     "output_type": "stream",
     "text": [
      "Requirement already satisfied: mistralai in /opt/anaconda3/envs/labelstudio/lib/python3.10/site-packages (1.5.1)\n",
      "Requirement already satisfied: eval-type-backport>=0.2.0 in /opt/anaconda3/envs/labelstudio/lib/python3.10/site-packages (from mistralai) (0.2.2)\n",
      "Requirement already satisfied: httpx>=0.27.0 in /opt/anaconda3/envs/labelstudio/lib/python3.10/site-packages (from mistralai) (0.27.0)\n",
      "Requirement already satisfied: jsonpath-python>=1.0.6 in /opt/anaconda3/envs/labelstudio/lib/python3.10/site-packages (from mistralai) (1.0.6)\n",
      "Requirement already satisfied: pydantic>=2.9.0 in /opt/anaconda3/envs/labelstudio/lib/python3.10/site-packages (from mistralai) (2.9.2)\n",
      "Requirement already satisfied: python-dateutil>=2.8.2 in /opt/anaconda3/envs/labelstudio/lib/python3.10/site-packages (from mistralai) (2.9.0.post0)\n",
      "Requirement already satisfied: typing-inspect>=0.9.0 in /opt/anaconda3/envs/labelstudio/lib/python3.10/site-packages (from mistralai) (0.9.0)\n",
      "Requirement already satisfied: anyio in /opt/anaconda3/envs/labelstudio/lib/python3.10/site-packages (from httpx>=0.27.0->mistralai) (4.4.0)\n",
      "Requirement already satisfied: certifi in /opt/anaconda3/envs/labelstudio/lib/python3.10/site-packages (from httpx>=0.27.0->mistralai) (2024.7.4)\n",
      "Requirement already satisfied: httpcore==1.* in /opt/anaconda3/envs/labelstudio/lib/python3.10/site-packages (from httpx>=0.27.0->mistralai) (1.0.5)\n",
      "Requirement already satisfied: idna in /opt/anaconda3/envs/labelstudio/lib/python3.10/site-packages (from httpx>=0.27.0->mistralai) (3.7)\n",
      "Requirement already satisfied: sniffio in /opt/anaconda3/envs/labelstudio/lib/python3.10/site-packages (from httpx>=0.27.0->mistralai) (1.3.1)\n",
      "Requirement already satisfied: h11<0.15,>=0.13 in /opt/anaconda3/envs/labelstudio/lib/python3.10/site-packages (from httpcore==1.*->httpx>=0.27.0->mistralai) (0.14.0)\n",
      "Requirement already satisfied: annotated-types>=0.6.0 in /opt/anaconda3/envs/labelstudio/lib/python3.10/site-packages (from pydantic>=2.9.0->mistralai) (0.7.0)\n",
      "Requirement already satisfied: pydantic-core==2.23.4 in /opt/anaconda3/envs/labelstudio/lib/python3.10/site-packages (from pydantic>=2.9.0->mistralai) (2.23.4)\n",
      "Requirement already satisfied: typing-extensions>=4.6.1 in /opt/anaconda3/envs/labelstudio/lib/python3.10/site-packages (from pydantic>=2.9.0->mistralai) (4.12.2)\n",
      "Requirement already satisfied: six>=1.5 in /opt/anaconda3/envs/labelstudio/lib/python3.10/site-packages (from python-dateutil>=2.8.2->mistralai) (1.16.0)\n",
      "Requirement already satisfied: mypy-extensions>=0.3.0 in /opt/anaconda3/envs/labelstudio/lib/python3.10/site-packages (from typing-inspect>=0.9.0->mistralai) (1.0.0)\n",
      "Requirement already satisfied: exceptiongroup>=1.0.2 in /opt/anaconda3/envs/labelstudio/lib/python3.10/site-packages (from anyio->httpx>=0.27.0->mistralai) (1.2.2)\n",
      "Requirement already satisfied: Markdown in /opt/anaconda3/envs/labelstudio/lib/python3.10/site-packages (3.7)\n",
      "Requirement already satisfied: beautifulsoup4 in /opt/anaconda3/envs/labelstudio/lib/python3.10/site-packages (4.12.3)\n",
      "Requirement already satisfied: soupsieve>1.2 in /opt/anaconda3/envs/labelstudio/lib/python3.10/site-packages (from beautifulsoup4) (2.6)\n"
     ]
    }
   ],
   "source": [
    "# Install necessary packages\n",
    "!pip install --upgrade label-studio-sdk\n",
    "!pip install mistralai\n",
    "!pip install Markdown \n",
    "!pip install beautifulsoup4"
   ]
  },
  {
   "cell_type": "code",
   "execution_count": 20,
   "id": "070b31e1-57d5-4db8-804c-62b35420a2dd",
   "metadata": {},
   "outputs": [],
   "source": [
    "### API Keys and URLS \n",
    "# API key for Mistral\n",
    "mistral_api_key = \n",
    "\n",
    "# URL of your Label Studio Instance\n",
    "label_studio_url = \"http://localhost:8080\" \n",
    "# Label Studio API Key (in your user settings)\n",
    "label_studio_api_key = \n"
   ]
  },
  {
   "cell_type": "markdown",
   "id": "5bfcbaa8-0022-4f00-974c-aa4c1c36cd80",
   "metadata": {},
   "source": [
    "## Create Label Studio Project for OCR"
   ]
  },
  {
   "cell_type": "code",
   "execution_count": 142,
   "id": "4492be16-a1f6-411b-816e-690bd99d3e5c",
   "metadata": {},
   "outputs": [],
   "source": [
    "from label_studio_sdk.client import LabelStudio\n",
    "\n",
    "# Connect to Label Studio \n",
    "ls = LabelStudio(\n",
    "    base_url=label_studio_url,  \n",
    "    api_key=label_studio_api_key,\n",
    ")"
   ]
  },
  {
   "cell_type": "code",
   "execution_count": 184,
   "id": "81ea1fbb-2b86-4d66-83f1-d813e7951b04",
   "metadata": {},
   "outputs": [],
   "source": [
    "# Labeling Config for OCR using Multi-page document annotation\n",
    "# We'll have 2 columns: the PDF on the left as a list of images, and the transcription on the right for editing \n",
    "\n",
    "labeling_config = \"\"\"\n",
    "<View style=\"display: flex;\">\n",
    "  <View style=\"flex: 50%\">\n",
    "  \t<Image name=\"pdf\" valueList=\"$pages\" />\n",
    "  </View>\n",
    "  <View style=\"flex: 50%; margin-leftL 1em\">\n",
    "  \t<TextArea name=\"transcription\" toName=\"pdf\" editable=\"true\" perItem=\"true\" placeholder=\"Recognized Text\"/>\n",
    " </View>\n",
    "</View>\n",
    "\"\"\""
   ]
  },
  {
   "cell_type": "code",
   "execution_count": 185,
   "id": "bc28acfe-b1f0-46ae-835e-b607e213c9d1",
   "metadata": {},
   "outputs": [],
   "source": [
    "# Create Label Studio Project\n",
    "project = ls.projects.create(\n",
    "    title=\"MistralOCR\",\n",
    "    description=\"OCR using the new MistralOCR model\",\n",
    "    label_config=labeling_config\n",
    ")\n"
   ]
  },
  {
   "cell_type": "markdown",
   "id": "535395f0-d0d0-489c-acbd-2ca722a0faaa",
   "metadata": {},
   "source": [
    "## Set up sample task "
   ]
  },
  {
   "cell_type": "code",
   "execution_count": 186,
   "id": "507f5996-d500-42ba-9908-02ebd9456889",
   "metadata": {},
   "outputs": [],
   "source": [
    "# This is a single sample task: a 3 page document. If you want to replace with your own task, replace the pages list \n",
    "# with a list of URLs to your document in iamge form. \n",
    "# You can make this a loop to add multiple documents! \n",
    "\n",
    "sample_task = {\n",
    "    \"pages\": [\n",
    "      \"https://htx-pub.s3.amazonaws.com/demo/images/demo_stock_purchase_agreement/0001.jpg\",\n",
    "      \"https://htx-pub.s3.amazonaws.com/demo/images/demo_stock_purchase_agreement/0002.jpg\",\n",
    "      \"https://htx-pub.s3.amazonaws.com/demo/images/demo_stock_purchase_agreement/0003.jpg\"\n",
    "    ]\n",
    "}"
   ]
  },
  {
   "cell_type": "code",
   "execution_count": 187,
   "id": "f53bf48a-65ed-416a-9a32-5c32256a8fb9",
   "metadata": {},
   "outputs": [],
   "source": [
    "# Upload task to Label Studio \n",
    "task = ls.tasks.create(\n",
    "    project=project.id,\n",
    "    data=sample_task\n",
    ")"
   ]
  },
  {
   "cell_type": "markdown",
   "id": "7161138b-ce36-496a-a94b-497bfe85f711",
   "metadata": {},
   "source": [
    "## Do OCR with MistralOCR"
   ]
  },
  {
   "cell_type": "code",
   "execution_count": 188,
   "id": "b397a08d-dede-4a4d-9e01-8cd5259d4e4a",
   "metadata": {},
   "outputs": [],
   "source": [
    "# Helper Function \n",
    "from bs4 import BeautifulSoup\n",
    "from markdown import markdown \n",
    "\n",
    "# In the OSS version of Label Studio, we need to convert the markdown from MistralOCR to plain text so that it's readable.\n",
    "# In Enterprise, you can skip this step if you want to use Custom Scripts to handle HTML/Markdown \n",
    "def strip_markdown(markdown_string):\n",
    "    html = markdown(markdown_string)\n",
    "    text = ' '.join(BeautifulSoup(html).findAll(text=True))\n",
    "    return text \n"
   ]
  },
  {
   "cell_type": "code",
   "execution_count": 189,
   "id": "4ba8c969-fd16-4fdb-b886-47274bf1ac90",
   "metadata": {},
   "outputs": [],
   "source": [
    "# Name of the MistralOCR model to use\n",
    "mistral_model = \"mistral-ocr-latest\"\n",
    "\n",
    "def do_ocr(task_pages):\n",
    "    \"\"\" \n",
    "    Do OCR on the given pages for the task. \n",
    "    param task_pages: a list of the urls for the images you want to do OCR on (probably all the pages of a single PDF)\n",
    "    output: the text of the OCR (with markdown stripped out) for each page, as a list\n",
    "    \"\"\"\n",
    "    print(\"Doing OCR\")\n",
    "    page_ocr = []\n",
    "    for page in task_pages: \n",
    "        ocr_response = mistral.ocr.process(\n",
    "            model=mistral_model,\n",
    "            document={\n",
    "                \"type\": \"image_url\",\n",
    "                \"image_url\": page\n",
    "            },\n",
    "            include_image_base64=False\n",
    "        )\n",
    "        text = strip_markdown(ocr_response.pages[0].markdown)\n",
    "        page_ocr.append(text)\n",
    "    return page_ocr"
   ]
  },
  {
   "cell_type": "markdown",
   "id": "29f6ec03-011f-4153-8f94-0a61f414b9ca",
   "metadata": {},
   "source": [
    "## Create MistralOCR Predictions and Upload to Label Studio"
   ]
  },
  {
   "cell_type": "code",
   "execution_count": 190,
   "id": "3c017e90-c66e-4096-ad24-a3917fee70bd",
   "metadata": {},
   "outputs": [
    {
     "name": "stdout",
     "output_type": "stream",
     "text": [
      "19\n",
      "Doing OCR\n"
     ]
    },
    {
     "name": "stderr",
     "output_type": "stream",
     "text": [
      "/var/folders/09/hdgvkq0s3z5ck14_ww160yp00000gn/T/ipykernel_35081/583770306.py:7: DeprecationWarning: The 'text' argument to find()-type methods is deprecated. Use 'string' instead.\n",
      "  text = ' '.join(BeautifulSoup(html).findAll(text=True))\n"
     ]
    },
    {
     "name": "stdout",
     "output_type": "stream",
     "text": [
      "OCR Completed\n",
      "Creating Predictions for Label Studio\n",
      "[{'from_name': 'transcription', 'to_name': 'pdf', 'type': 'textarea', 'value': {'text': ['SERIES B PREFERRED STOCK PURCHASE AGREEMENT \\n THIS SERIES B PREFERRED STOCK PURCHASE AGREEMENT (this \"Agreement\"), is made as of is made as of September 15, 2021, by and among Meetly, Inc, a Delaware corporation (the \"Company\") and the investors listed on Exhibit A attached to this Agreement (each a \"Purchaser\" and together the \"Purchasers\"). \\n The parties hereby agree as follows: \\n \\n Purchase and Sale of Preferred Stock. \\n \\n 1.1 Sale and Issuance of Preferred Stock. \\n (a) The Company shall have adopted and filed with the Secretary of State of the State of Delaware [on or before the Initial Closing (as defined below)] the Amended and Restated Certificate of Incorporation in the form of Exhibit A attached to this Agreement (the \"Restated Certificate\").\\n(b) Subject to the terms and conditions of this Agreement, each Purchaser agrees to purchase at the Closing (as defined below) and the Company agrees to sell and issue to each Purchaser at the Closing that number of shares of Series B Preferred Stock, $\\\\$ 0.0001$ par value per share (the \"Series B Preferred Stock\"), set forth opposite each Purchaser\\'s name on Exhibit A, at a purchase price of $\\\\$ 1.5000$ per share. The shares of Series B Preferred Stock issued to the Purchasers pursuant to this Agreement shall be referred to in this Agreement as the \"Shares.\" \\n 1.2 Closing: Delivery. \\n (a) The initial purchase and sale of the Shares shall take place remotely via the exchange of documents and signatures, on September 15, 2021, or at such other time and place as the Company and the Purchasers mutually agree upon, orally or in writing (which time and place are designated as the \"Initial Closing\"). In the event there is more than one closing, the term \"Closing\" shall apply to each such closing unless otherwise specified.\\n(b) At each Closing, the Company shall deliver to each Purchaser a certificate representing the Shares being purchased by such Purchaser at such Closing against payment of the purchase price therefor by check payable to the Company, by wire transfer to a bank account designated by the Company, by cancellation or conversion of indebtedness or other convertible securities of the Company to Purchaser or by any combination of such methods. \\n 1.3 Sale of Additional Shares of Preferred Stock. \\n (a) After the Initial Closing, the Company may sell, on the same terms and conditions as those contained in this Agreement, up to 1,000000 additional shares (subject to appropriate adjustment in the event of any stock dividend, stock split, combination or similar recapitalization affecting such shares) of Series B Preferred Stock (the \"Additional Shares\"), to one (1) or more purchasers (the \"Additional Purchasers\"), provided that (i) such subsequent sale is consummated prior to [ninety (90)] days after the Initial Closing (ii) each Additional Purchaser']}, 'item_index': 0}, {'from_name': 'transcription', 'to_name': 'pdf', 'type': 'textarea', 'value': {'text': ['becomes a party to the Transaction Agreements (as defined below) (other than the Management Rights Letter), by executing and delivering a counterpart signature page to each of the Transaction Agreements; and (iii) Chris Moore, counsel for the Company, provides an opinion dated as of the date of such Closing that the offer, issuance, sale and delivery of the Additional Shares to the Additional Purchasers do not require registration under the Securities Act of 1933, as amended, or applicable state securities laws]. Exhibit A to this Agreement shall be updated to reflect the number of Additional Shares purchased at each such Closing and the parties purchasing such Additional Shares.\\n1.4 Use of Proceeds. In accordance with the directions of the Company\\'s Board of Directors, as it shall be constituted in accordance with the Voting Agreement, the Company will use the proceeds from the sale of the Shares for product development and other general corporate purposes.\\n1.5 Defined Terms Used in this Agreement. In addition to the terms defined above, the following terms used in this Agreement shall be construed to have the meanings set forth or referenced below.\\n(a) \"Affiliate\" means, with respect to any specified Person, any other Person who, directly or indirectly, controls, is controlled by, or is under common control with such Person, including, without limitation, any general partner, managing member, officer, director or trustee of such Person, or any venture capital fund or registered investment company now or hereafter existing that is controlled by one (1) or more general partners, managing members or investment advisers of, or shares the same management company or investment adviser with, such Person.\\n(b) \"Code\" means the Internal Revenue Code of 1986, as amended.\\n(c) \"Company Intellectual Property\" means all patents, patent applications, registered and unregistered trademarks, trademark applications, registered and unregistered service marks, service mark applications, tradenames, copyrights, trade secrets, domain names, [mask works,] information and proprietary rights and processes, similar or other intellectual property rights, subject matter of any of the foregoing, tangible embodiments of any of the foregoing, licenses in, to and under any of the foregoing, and in any and all such cases [that are owned or used by] [as are necessary to] the Company in the conduct of the Company\\'s business as now conducted and as presently proposed to be conducted.\\n(d) \"Indemnification Agreement\" means the agreement between the Company and the director [and Purchaser Affiliates] designated by any Purchaser entitled to designate a member of the Board of Directors pursuant to the Voting Agreement, dated as of the date of the Initial Closing, in the form of Exhibit A attached to this Agreement.\\n(e) \"Investors\\' Rights Agreement\" means the agreement among the Company and the Purchasers [and certain other stockholders of the Company] dated as of the date of the Initial Closing, in the form of Exhibit A attached to this Agreement.\\n(f) \"Key Employee\" means any executive-level employee (including division director and vice president-level positions) as well as any employee or consultant who']}, 'item_index': 1}, {'from_name': 'transcription', 'to_name': 'pdf', 'type': 'textarea', 'value': {'text': ['either alone or in concert with others develops, invents, programs or designs any Company Intellectual Property.\\n(g) \"Knowledge\" including the phrase \"to the Company\\'s knowledge\" shall mean the actual knowledge [after reasonable investigation and assuming such knowledge as the individual would have as a result of the reasonable performance of his or her duties in the ordinary course] of the following officers: [specify names]. Additionally, for purposes of Section 2.8 , the Company shall be deemed to have \"knowledge\" of a patent right if the Company has actual knowledge of the patent right or would be found to be on notice of such patent right as determined by reference to United States patent laws.\\n(h) \"Management Rights Letter\" means the agreement between the Company and [Purchaser], dated as of the date of the Initial Closing, in the form of Exhibit A attached to this Agreement.\\n(i) \"Material Adverse Effect\" means a material adverse effect on the business, assets (including intangible assets), liabilities, financial condition, property, prospects ${ }^{1}$ or results of operations of the Company.\\n(j) \"Person\" means any individual, corporation, partnership, trust, limited liability company, association or other entity.\\n(k) \"Purchaser\" means each of the Purchasers who is initially a party to this Agreement and any Additional Purchaser who becomes a party to this Agreement at a subsequent Closing under Section 1.2(b).\\n(1) \"Right of First Refusal and Co-Sale Agreement\" means the agreement among the Company, the Purchasers, and certain other stockholders of the Company, dated as of the date of the Initial Closing, in the form of Exhibit A attached to this Agreement.\\n(m) \"Securities Act\" means the Securities Act of 1933, as amended, and the rules and regulations promulgated thereunder.\\n(n) \"Transaction Agreements\" means this Agreement, the Investors\\' Rights Agreement, the Management Rights Letter, the Right of First Refusal and Co-Sale Agreement, the Voting Agreement and [list any other agreements, instruments or documents entered into in connection with this Agreement].\\n(o) \"Voting Agreement\" means the agreement among the Company, the Purchasers and certain other stockholders of the Company, dated as of the date of the Initial Closing, in the form of Exhibit A attached to this Agreement. \\n [^0]\\n[^0]:    Since the prospects of high-tech start-up companies are by definition highly uncertain, the Company may resist the inclusion of the word \"prospects\" on the grounds that investors in a Series B financing are in the business of shouldering that risk.']}, 'item_index': 2}]\n",
      "prediction for task 19 uploaded\n"
     ]
    }
   ],
   "source": [
    "# main method \n",
    "from mistralai import Mistral\n",
    "from label_studio_sdk.label_interface.objects import PredictionValue\n",
    "\n",
    "mistral = Mistral(api_key=mistral_api_key)\n",
    "\n",
    "\n",
    "upload_project = ls.projects.get(id=project.id)\n",
    "li = upload_project.get_label_interface()\n",
    "\n",
    "\n",
    "# for every task in the project, we'll get the mistral predictions and upload them\n",
    "for task in ls.tasks.list(project=upload_project.id):\n",
    "    task_id = int(task.id)\n",
    "    print(task_id)\n",
    "    task_pages = task.data[\"pages\"]\n",
    "    task_predictions = do_ocr(task_pages)\n",
    "    print(\"OCR Completed\")\n",
    "    print(\"Creating Predictions for Label Studio\")\n",
    "    results = [\n",
    "        {\n",
    "            \"from_name\" : \"transcription\",\n",
    "            \"to_name\" : \"pdf\",\n",
    "            \"type\": \"textarea\",\n",
    "            \"value\" : {\n",
    "                \"text\": [p],\n",
    "            },\n",
    "            \"item_index\" : i,\n",
    "\n",
    "        }\n",
    "    for i, p in enumerate(task_predictions)]\n",
    "    ls.predictions.create(task=task_id, result=results, model_version=mistral_model)\n",
    "    print(f\"prediction for task {task_id} uploaded\")"
   ]
  },
  {
   "cell_type": "code",
   "execution_count": null,
   "id": "d06f9a0e-24c3-4a72-8af6-28c9fd7e050c",
   "metadata": {},
   "outputs": [],
   "source": []
  },
  {
   "cell_type": "code",
   "execution_count": null,
   "id": "919a8218-1d23-45a5-b6d7-3a758660436c",
   "metadata": {},
   "outputs": [],
   "source": []
  }
 ],
 "metadata": {
  "kernelspec": {
   "display_name": "Python 3 (ipykernel)",
   "language": "python",
   "name": "python3"
  },
  "language_info": {
   "codemirror_mode": {
    "name": "ipython",
    "version": 3
   },
   "file_extension": ".py",
   "mimetype": "text/x-python",
   "name": "python",
   "nbconvert_exporter": "python",
   "pygments_lexer": "ipython3",
   "version": "3.12.9"
  }
 },
 "nbformat": 4,
 "nbformat_minor": 5
}
