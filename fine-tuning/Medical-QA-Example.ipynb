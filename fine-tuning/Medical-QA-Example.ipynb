{
 "cells": [
  {
   "cell_type": "markdown",
   "metadata": {},
   "source": [
    "# Medical Question-Answer Dataset Curation Using Label Studio"
   ]
  },
  {
   "cell_type": "markdown",
   "metadata": {},
   "source": [
    "In this tutorial, we'll explore the process of curating a dataset for a Generative AI model, specifically focusing on medical question and answer generation using Label Studio. This involves setting up projects in Label Studio, importing datasets, and configuring tasks for question and answer generation."
   ]
  },
  {
   "cell_type": "markdown",
   "metadata": {},
   "source": [
    "### Installation\n",
    "To set up your environment, install the required libraries using pip:"
   ]
  },
  {
   "cell_type": "code",
   "execution_count": null,
   "metadata": {},
   "outputs": [],
   "source": [
    "!pip install -r requirements.txt"
   ]
  },
  {
   "cell_type": "markdown",
   "metadata": {},
   "source": [
    "## Setup Label Studio\n",
    "Start Label Studio and connect to it with the SDK. You can retrieve an API key from the user settings. \n",
    "\n",
    "```\n",
    "$ label-studio\n",
    "```"
   ]
  },
  {
   "cell_type": "code",
   "execution_count": 15,
   "metadata": {},
   "outputs": [
    {
     "data": {
      "text/plain": [
       "{'status': 'UP'}"
      ]
     },
     "execution_count": 15,
     "metadata": {},
     "output_type": "execute_result"
    }
   ],
   "source": [
    "# Import the SDK and the client module\n",
    "from label_studio_sdk import Client\n",
    "\n",
    "# Define the URL where Label Studio is accessible and the API key for your user account\n",
    "LABEL_STUDIO_URL = 'http://localhost:8080'\n",
    "API_KEY = '<your_api_key>'\n",
    "\n",
    "# Connect to the Label Studio API and check the connection\n",
    "client = Client(url=LABEL_STUDIO_URL, api_key=API_KEY)\n",
    "client.check_connection()"
   ]
  },
  {
   "cell_type": "markdown",
   "metadata": {},
   "source": [
    "## MedChat Dataset\n",
    "In this section, we will import the [MedChat QA dataset](https://huggingface.co/datasets/ngram/medchat-qa) from Hugging Face datasets and set up a Label Studio project to curate it."
   ]
  },
  {
   "cell_type": "code",
   "execution_count": 39,
   "metadata": {},
   "outputs": [],
   "source": [
    "from datasets import load_dataset\n",
    "\n",
    "medchat_dataset = load_dataset(\"ngram/medchat-qa\")"
   ]
  },
  {
   "cell_type": "code",
   "execution_count": 41,
   "metadata": {},
   "outputs": [
    {
     "data": {
      "text/plain": [
       "{'question': 'What is one of the methods of administering this drug, as mentioned in the section?',\n",
       " 'answer': 'For intravenous infusion into a peripheral or central vein.'}"
      ]
     },
     "execution_count": 41,
     "metadata": {},
     "output_type": "execute_result"
    }
   ],
   "source": [
    "medchat_dataset['train'][1]"
   ]
  },
  {
   "cell_type": "markdown",
   "metadata": {},
   "source": [
    "### Creating a Label Studio Project\n",
    "Next, create a new project in Label Studio for this dataset:"
   ]
  },
  {
   "cell_type": "code",
   "execution_count": 35,
   "metadata": {},
   "outputs": [],
   "source": [
    "medchat_project = client.start_project(\n",
    "    title='Project 1: MedChat',\n",
    "    color='#008000',\n",
    "    label_config='''\n",
    "<View className=\"root\">\n",
    "  <Style>\n",
    "  .root {\n",
    "    font-family: 'Roboto', sans-serif;\n",
    "    line-height: 1.6;\n",
    "    background-color: #f0f0f0;\n",
    "  }\n",
    "  .container {\n",
    "    margin: 0 auto;\n",
    "    padding: 20px;\n",
    "    background-color: #ffffff;\n",
    "    border-radius: 5px;\n",
    "    box-shadow: 0 4px 8px 0 rgba(0, 0, 0, 0.1), 0 6px 20px 0 rgba(0, 0, 0, 0.1);\n",
    "  }\n",
    "  .prompt {\n",
    "    padding: 20px;\n",
    "    background-color: #0084ff;\n",
    "    color: #ffffff;\n",
    "    border-radius: 5px;\n",
    "    margin-bottom: 20px;\n",
    "    box-shadow: 0 2px 4px 0 rgba(0, 0, 0, 0.1), 0 3px 10px 0 rgba(0, 0, 0, 0.1);\n",
    "  }\n",
    "  .prompt-input {\n",
    "    flex-basis: 49%;\n",
    "    padding: 20px;\n",
    "    background-color: rgba(44, 62, 80, 0.9);\n",
    "    color: #ffffff;\n",
    "    border-radius: 5px;\n",
    "    box-shadow: 0 2px 4px 0 rgba(0, 0, 0, 0.1), 0 3px 10px 0 rgba(0, 0, 0, 0.1);\n",
    "    width: 100%;\n",
    "    border: none;\n",
    "    font-family: 'Roboto', sans-serif;\n",
    "    font-size: 16px;\n",
    "    outline: none;\n",
    "  }\n",
    "  .prompt-input:focus {\n",
    "    outline: none;\n",
    "  }\n",
    "  .prompt-input:hover {\n",
    "    background-color: rgba(52, 73, 94, 0.9);\n",
    "    cursor: pointer;\n",
    "    transition: all 0.3s ease;\n",
    "  }\n",
    "  .lsf-richtext__line:hover {\n",
    "    background: unset;\n",
    "  }\n",
    "  </Style>\n",
    "  <Text name=\"chat\" value=\"$question\" layout=\"dialogue\" />\n",
    "  <Header value=\"Answer:\"/>\n",
    "  \t<Text name=\"summary\" value=\"$answer\" toName=\"summary\" rows=\"4\" editable=\"false\" maxSubmissions=\"1\" showSubmitButton=\"false\"/>\n",
    "  <Header value=\"User prompt:\" />\n",
    "  <View className=\"prompt\">\n",
    "  <TextArea name=\"prompt\" toName=\"chat\" rows=\"4\" editable=\"true\" maxSubmissions=\"1\" showSubmitButton=\"true\" />\n",
    "  </View>\n",
    "  <Header value=\"Bot answer:\"/>\n",
    "    <TextArea name=\"response\" toName=\"chat\" rows=\"4\" editable=\"false\" maxSubmissions=\"1\" showSubmitButton=\"false\" />\n",
    "</View>\n",
    "    '''\n",
    ")"
   ]
  },
  {
   "cell_type": "markdown",
   "metadata": {},
   "source": [
    "This project setup also includes the capability to configure the Label Studio ML Backend for using an LLM to help label the data. \n",
    "\n",
    "To set up the ML Backend, see the [LLM Interactive Example](https://github.com/HumanSignal/label-studio-ml-backend/tree/master/label_studio_ml/examples/llm_interactive).\n",
    "\n",
    "```bash\n",
    "git clone https://github.com/HumanSignal/label-studio-ml-backend.git\n",
    "cd label-studio-ml-backend/label_studio_ml/examples/llm_interactive\n",
    "```\n",
    "\n",
    "We can edit the `docker-compose.yml` to point to the model we are interested in. For instance if we want to configure it to use Llama 3 running with Ollama, we can configure the following fields: \n",
    "\n",
    "```yaml\n",
    "OPENAI_PROVIDER=ollama\n",
    "OPENAI_MODEL=llama3\n",
    "OLLAMA_ENDPOINT=http://host.docker.internal:11434/v1/\n",
    "```"
   ]
  },
  {
   "cell_type": "markdown",
   "metadata": {},
   "source": [
    "Insert the data into the Label Studio project. "
   ]
  },
  {
   "cell_type": "code",
   "execution_count": null,
   "metadata": {},
   "outputs": [],
   "source": [
    "# task = medchat_dataset['train'][1]\n",
    "medchat_tasks = []\n",
    "for t in medchat_dataset['train']:\n",
    "    medchat_tasks.append(t)\n",
    "medchat_project.import_tasks(medchat_tasks) "
   ]
  },
  {
   "cell_type": "markdown",
   "metadata": {},
   "source": [
    "Notice how even this curated dataset has examples that may not be necessarily desirable. "
   ]
  },
  {
   "cell_type": "markdown",
   "metadata": {},
   "source": [
    "## Question Generation with MeDAL \n",
    "The [MeDAL dataset](https://huggingface.co/datasets/medal) is a comprehensive medical text collection curated specifically for abbreviation disambiguation, aiding in natural language understanding pre-training within the medical domain.\n",
    "\n",
    "We can use this dataset to provide context for creating a synthetic Q&A dataset. We'll first start with a Label Studio project to generate questions. \n",
    "\n",
    "Set up a new project for question generation: "
   ]
  },
  {
   "cell_type": "code",
   "execution_count": 29,
   "metadata": {},
   "outputs": [],
   "source": [
    "medal_questions_project = client.start_project(\n",
    "    title='Project 2: MeDAL Question Generation',\n",
    "    label_config='''\n",
    "<View className=\"root\">\n",
    "  <Style>\n",
    "  .root {\n",
    "    font-family: 'Roboto', sans-serif;\n",
    "    line-height: 1.6;\n",
    "    background-color: #f0f0f0;\n",
    "  }\n",
    "  .container {\n",
    "    margin: 0 auto;\n",
    "    padding: 20px;\n",
    "    background-color: #ffffff;\n",
    "    border-radius: 5px;\n",
    "    box-shadow: 0 4px 8px 0 rgba(0, 0, 0, 0.1), 0 6px 20px 0 rgba(0, 0, 0, 0.1);\n",
    "  }\n",
    "  .prompt {\n",
    "    padding: 20px;\n",
    "    background-color: #0084ff;\n",
    "    color: #ffffff;\n",
    "    border-radius: 5px;\n",
    "    margin-bottom: 20px;\n",
    "    box-shadow: 0 2px 4px 0 rgba(0, 0, 0, 0.1), 0 3px 10px 0 rgba(0, 0, 0, 0.1);\n",
    "  }\n",
    "  .prompt-input {\n",
    "    flex-basis: 49%;\n",
    "    padding: 20px;\n",
    "    background-color: rgba(44, 62, 80, 0.9);\n",
    "    color: #ffffff;\n",
    "    border-radius: 5px;\n",
    "    box-shadow: 0 2px 4px 0 rgba(0, 0, 0, 0.1), 0 3px 10px 0 rgba(0, 0, 0, 0.1);\n",
    "    width: 100%;\n",
    "    border: none;\n",
    "    font-family: 'Roboto', sans-serif;\n",
    "    font-size: 16px;\n",
    "    outline: none;\n",
    "  }\n",
    "  .prompt-input:focus {\n",
    "    outline: none;\n",
    "  }\n",
    "  .prompt-input:hover {\n",
    "    background-color: rgba(52, 73, 94, 0.9);\n",
    "    cursor: pointer;\n",
    "    transition: all 0.3s ease;\n",
    "  }\n",
    "  .lsf-richtext__line:hover {\n",
    "    background: unset;\n",
    "  }\n",
    "  </Style>\n",
    "  <Text name=\"chat\" value=\"$text\" layout=\"dialogue\"/>\n",
    "  <Header value=\"Question prompt:\"/>\n",
    "  <View className=\"prompt\">\n",
    "    <TextArea name=\"prompt\" toName=\"chat\" rows=\"4\" editable=\"true\" maxSubmissions=\"1\" showSubmitButton=\"false\"/>\n",
    "  </View>\n",
    "  <Header value=\"Proposed questions:\"/>\n",
    "  <TextArea name=\"response\" toName=\"chat\" rows=\"3\" editable=\"true\" maxSubmissions=\"1\" showSubmitButton=\"false\"/>\n",
    "</View>\n",
    "    '''\n",
    ")"
   ]
  },
  {
   "cell_type": "markdown",
   "metadata": {},
   "source": [
    "Load the dataset and insert it into Label Studio. The dataset is quite large, so we'll only load a few examples first. "
   ]
  },
  {
   "cell_type": "code",
   "execution_count": 21,
   "metadata": {},
   "outputs": [],
   "source": [
    "medal_dataset = load_dataset(\"medal\", split='train')"
   ]
  },
  {
   "cell_type": "code",
   "execution_count": 30,
   "metadata": {},
   "outputs": [],
   "source": [
    "# Insert 10 examples into Label Studio\n",
    "num_examples = 10\n",
    "for i in range(num_examples):\n",
    "    task = medal_dataset[i]\n",
    "    medal_questions_project.import_tasks(task)"
   ]
  },
  {
   "cell_type": "markdown",
   "metadata": {},
   "source": [
    "For question generation, we need to have a strong prompt to yield solid results. Here is a useful prompt for generating medical questions for examples from the MeDAL dataset. \n",
    "\n",
    "```text\n",
    "Given a block of medical text, generate several direct, succinct, and unique questions that stand alone, focusing on extracting specific medical information such as symptoms, diagnosis, treatment options, or patient management strategies. Each question should aim to elicit precise and informative responses without requiring additional context. The questions should cover diverse aspects of the medical content to ensure a comprehensive understanding. Ensure each question is clear and formulated to be self-contained. Here are examples to guide your question generation:\n",
    "\n",
    "What are the common symptoms associated with [specific condition]?\n",
    "How is [specific condition] diagnosed?\n",
    "What treatment options are available for [specific condition]?\n",
    "What are the potential side effects of [specific medication]?\n",
    "What preventive measures are recommended for [specific condition]?\n",
    "\n",
    "Use these examples as a template, tailoring questions to different parts of the text to maximize the dataset's utility and accuracy. Questions should be separated by a new line and not prefixed by any markers or numbers.\n",
    "```"
   ]
  },
  {
   "cell_type": "markdown",
   "metadata": {},
   "source": [
    "## Answer Generation with MeDAL\n",
    "The final step involves setting up a project for answer generation using the questions created in the previous step.\n",
    "\n",
    "We'll set up a project, export our questions generated in the previous section and generate answers in Label Studio."
   ]
  },
  {
   "cell_type": "code",
   "execution_count": 109,
   "metadata": {},
   "outputs": [],
   "source": [
    "medal_anwers_project = client.start_project(\n",
    "    title='Project 3: MeDAL Answer Generation',\n",
    "    label_config='''\n",
    "<View className=\"root\">\n",
    "  <Style>\n",
    "  .root {\n",
    "    font-family: 'Roboto', sans-serif;\n",
    "    line-height: 1.6;\n",
    "    background-color: #f0f0f0;\n",
    "  }\n",
    "  .container {\n",
    "    margin: 0 auto;\n",
    "    padding: 20px;\n",
    "    background-color: #ffffff;\n",
    "    border-radius: 5px;\n",
    "    box-shadow: 0 4px 8px 0 rgba(0, 0, 0, 0.1), 0 6px 20px 0 rgba(0, 0, 0, 0.1);\n",
    "  }\n",
    "  .prompt {\n",
    "    padding: 20px;\n",
    "    background-color: #0084ff;\n",
    "    color: #ffffff;\n",
    "    border-radius: 5px;\n",
    "    margin-bottom: 20px;\n",
    "    box-shadow: 0 2px 4px 0 rgba(0, 0, 0, 0.1), 0 3px 10px 0 rgba(0, 0, 0, 0.1);\n",
    "  }\n",
    "  .prompt-input {\n",
    "    flex-basis: 49%;\n",
    "    padding: 20px;\n",
    "    background-color: rgba(44, 62, 80, 0.9);\n",
    "    color: #ffffff;\n",
    "    border-radius: 5px;\n",
    "    box-shadow: 0 2px 4px 0 rgba(0, 0, 0, 0.1), 0 3px 10px 0 rgba(0, 0, 0, 0.1);\n",
    "    width: 100%;\n",
    "    border: none;\n",
    "    font-family: 'Roboto', sans-serif;\n",
    "    font-size: 16px;\n",
    "    outline: none;\n",
    "  }\n",
    "  .prompt-input:focus {\n",
    "    outline: none;\n",
    "  }\n",
    "  .prompt-input:hover {\n",
    "    background-color: rgba(52, 73, 94, 0.9);\n",
    "    cursor: pointer;\n",
    "    transition: all 0.3s ease;\n",
    "  }\n",
    "  .lsf-richtext__line:hover {\n",
    "    background: unset;\n",
    "  }\n",
    "  </Style>\n",
    "  <Text name=\"chat\" value=\"$text\" layout=\"dialogue\"/>\n",
    "  <Header value=\"Answer prompt:\"/>\n",
    "  <View className=\"prompt\">\n",
    "    <TextArea name=\"prompt\" toName=\"chat\" rows=\"4\" editable=\"true\" maxSubmissions=\"1\" showSubmitButton=\"false\"/>\n",
    "  </View>\n",
    "  <Header value=\"Proposed answer:\"/>\n",
    "  <TextArea name=\"response\" toName=\"chat\" rows=\"3\" editable=\"true\" maxSubmissions=\"1\" showSubmitButton=\"false\"/>\n",
    "</View>\n",
    "    '''\n",
    ")"
   ]
  },
  {
   "cell_type": "markdown",
   "metadata": {},
   "source": [
    "Export questions from our previous project. "
   ]
  },
  {
   "cell_type": "code",
   "execution_count": 39,
   "metadata": {},
   "outputs": [],
   "source": [
    "# Download questions from Label Studio\n",
    "questions_tasks = medal_questions_project.get_labeled_tasks()\n",
    "len(questions_tasks)"
   ]
  },
  {
   "cell_type": "code",
   "execution_count": 92,
   "metadata": {},
   "outputs": [
    {
     "data": {
      "text/plain": [
       "{'value': {'text': ['What is the role of velvet antler peptide (svap) in preventing cardiac fibrosis from pressure overload?\\nHow does svap interact with TGFÎ² receptors and disrupt the TGFÎ² pathway?\\nWhat effects did treatment with svap have on cardiac dysfunction, fibroblast activation, and fibrosis in rats undergoing TAC surgery?\\nWhat specific molecular changes were observed in the heart tissue following TAC surgery and how were they impacted by svap treatment?\\nHow does svap inhibit reactive oxygen species, CTGF expression, and the phosphorylation of SMAD and ERK in cardiac fibroblasts?\\nWhat similarities were observed between the effects of angiotensin II and TAC surgery, and how did svap counteract these effects?\\nWhat mechanisms did svap utilize to block the TGFÎ² pathway in cardiac fibroblasts and prevent fibrosis?']},\n",
       " 'id': '4d836b17-25a6-4e9d-8d18-f2313d75b65c',\n",
       " 'from_name': 'response',\n",
       " 'to_name': 'chat',\n",
       " 'type': 'textarea',\n",
       " 'origin': 'manual'}"
      ]
     },
     "execution_count": 92,
     "metadata": {},
     "output_type": "execute_result"
    }
   ],
   "source": [
    "questions_tasks[0]['annotations'][0]['result'][1]"
   ]
  },
  {
   "cell_type": "markdown",
   "metadata": {},
   "source": [
    "Format as a Hugging Face dataset."
   ]
  },
  {
   "cell_type": "code",
   "execution_count": 132,
   "metadata": {},
   "outputs": [],
   "source": [
    "import re\n",
    "\n",
    "# Extract questions\n",
    "def extract_questions_data(questions_tasks):\n",
    "    data = []\n",
    "    for task in questions_tasks:\n",
    "        for result in task['annotations'][0]['result']:\n",
    "            if result['from_name'] == 'response':\n",
    "                # Extract the abstract_id\n",
    "                abstract_id = task['data']['abstract_id']\n",
    "                \n",
    "                # Extract the question text and split by newlines to handle multiple questions\n",
    "                questions = result['value']['text'][0].split('\\n')\n",
    "                \n",
    "                # Store each question with its corresponding abstract_id\n",
    "                for question in questions:\n",
    "                    # Check if the question is not empty and contains at least one alphanumeric character\n",
    "                    if question.strip() and re.search('[a-zA-Z0-9]', question):\n",
    "                        data.append({'abstract_id': abstract_id, 'text': question})\n",
    "                break\n",
    "    return data\n",
    "\n",
    "extracted_questions_data = extract_questions_data(questions_tasks)\n",
    "\n",
    "questions_dataset = Dataset.from_dict({'abstract_id': [item['abstract_id'] for item in extracted_questions_data], \n",
    "                             'text': [item['text'] for item in extracted_questions_data]})\n",
    "\n",
    "# Format a "
   ]
  },
  {
   "cell_type": "markdown",
   "metadata": {},
   "source": [
    "Review our dataset and insert it into our answers project. "
   ]
  },
  {
   "cell_type": "code",
   "execution_count": 133,
   "metadata": {},
   "outputs": [
    {
     "data": {
      "text/plain": [
       "Dataset({\n",
       "    features: ['abstract_id', 'text'],\n",
       "    num_rows: 78\n",
       "})"
      ]
     },
     "execution_count": 133,
     "metadata": {},
     "output_type": "execute_result"
    }
   ],
   "source": [
    "questions_dataset"
   ]
  },
  {
   "cell_type": "code",
   "execution_count": 121,
   "metadata": {},
   "outputs": [],
   "source": [
    "# Upload the dataset to our Answers Project\n",
    "for question in questions_dataset: \n",
    "    medal_anwers_project.import_tasks(question)"
   ]
  },
  {
   "cell_type": "markdown",
   "metadata": {},
   "source": [
    "Similar to the questions curation, we also need a strong prompt for generating the answers to these questions. Here is a sample prompt that can be used. \n",
    "\n",
    "```text\n",
    "You are a medical expert tasked with providing the most accurate and succinct answers to specific questions based on detailed medical data. Focus on precision and directness in your responses, ensuring that each answer is factual, concise, and to the point. Avoid unnecessary elaboration and prioritize accuracy over sounding confident. Here are some guidelines for your responses:\n",
    "\n",
    "- Provide clear, direct answers without filler or extraneous details.\n",
    "- Base your responses solely on the information available in the medical text provided.\n",
    "- Ensure that your answers are straightforward and easy to understand, yet medically accurate.\n",
    "- Avoid speculative or generalized statements that are not directly supported by the text.\n",
    "\n",
    "Use these guidelines to formulate your answers to the questions presented. \n",
    "```"
   ]
  },
  {
   "cell_type": "markdown",
   "metadata": {},
   "source": [
    "## Curate Q&A Dataset\n",
    "Once question-answer pairs are generated and refined, download the dataset. For a more robust use case, we would also perform any necessary post-processing here such as formatting and anonymization. \n",
    "\n",
    "Finally, upload the curated dataset to Hugging Face, ensuring it meets their standards for public datasets. "
   ]
  },
  {
   "cell_type": "code",
   "execution_count": 122,
   "metadata": {},
   "outputs": [
    {
     "data": {
      "text/plain": [
       "78"
      ]
     },
     "execution_count": 122,
     "metadata": {},
     "output_type": "execute_result"
    }
   ],
   "source": [
    "# Download questions from Label Studio\n",
    "answers_tasks = medal_anwers_project.get_labeled_tasks()\n",
    "len(answers_tasks)"
   ]
  },
  {
   "cell_type": "code",
   "execution_count": 141,
   "metadata": {},
   "outputs": [],
   "source": [
    "# Extract questions\n",
    "def extract_answers_data(answers_tasks):\n",
    "    data = []\n",
    "    for task in answers_tasks:\n",
    "        for result in task['annotations'][0]['result']:\n",
    "            if result['from_name'] == 'response':\n",
    "                # Extract the abstract_id\n",
    "                abstract_id = task['data']['abstract_id']\n",
    "                \n",
    "                # Extract the question text and split by newlines to handle multiple questions\n",
    "                answer = result['value']['text'][0]\n",
    "                question = task['data']['text']\n",
    "                \n",
    "                # Store each question with its corresponding abstract_id\n",
    "                data.append({'abstract_id': abstract_id, 'question': question, 'answer': answer})\n",
    "    return data\n",
    "\n",
    "extracted_answers_data = extract_answers_data(answers_tasks)\n",
    "\n",
    "qa_dataset = Dataset.from_dict({'abstract_id': [item['abstract_id'] for item in extracted_answers_data], \n",
    "                             'question': [item['question'] for item in extracted_answers_data],\n",
    "                             'answer': [item['answer'] for item in extracted_answers_data]})"
   ]
  },
  {
   "cell_type": "code",
   "execution_count": 151,
   "metadata": {},
   "outputs": [
    {
     "data": {
      "text/plain": [
       "{'abstract_id': 14145090,\n",
       " 'question': 'What is the role of velvet antler peptide (svap) in preventing cardiac fibrosis from pressure overload?',\n",
       " 'answer': 'The role of velvet antler peptide (SVAP) in preventing cardiac fibrosis from pressure overload is not explicitly mentioned in the provided text.'}"
      ]
     },
     "execution_count": 151,
     "metadata": {},
     "output_type": "execute_result"
    }
   ],
   "source": [
    "qa_dataset[0]"
   ]
  },
  {
   "cell_type": "code",
   "execution_count": null,
   "metadata": {},
   "outputs": [],
   "source": [
    "qa_dataset.push_to_hub(\"<HF_Username>/med-qa\")"
   ]
  }
 ],
 "metadata": {
  "kernelspec": {
   "display_name": "base",
   "language": "python",
   "name": "python3"
  },
  "language_info": {
   "codemirror_mode": {
    "name": "ipython",
    "version": 3
   },
   "file_extension": ".py",
   "mimetype": "text/x-python",
   "name": "python",
   "nbconvert_exporter": "python",
   "pygments_lexer": "ipython3",
   "version": "3.11.4"
  }
 },
 "nbformat": 4,
 "nbformat_minor": 2
}
