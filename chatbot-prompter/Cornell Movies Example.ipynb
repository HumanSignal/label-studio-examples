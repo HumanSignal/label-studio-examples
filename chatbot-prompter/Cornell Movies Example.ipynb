{
 "cells": [
  {
   "cell_type": "markdown",
   "metadata": {},
   "source": [
    "# Re-writing Movies Scripts\n",
    "This notebook is designed to walk you through setting up an ML workflow that provides an interface labeling and interacting with movie scripts. We'll start with data preparation, create a Label Studio project with a prompt-generation workflow and ingest the data into the project. "
   ]
  },
  {
   "cell_type": "markdown",
   "metadata": {},
   "source": [
    "## Setup\n",
    "Installation of the Label Studio SDK, used for setting up the project. "
   ]
  },
  {
   "cell_type": "code",
   "execution_count": null,
   "metadata": {},
   "outputs": [],
   "source": [
    "!pip install label-studio-sdk"
   ]
  },
  {
   "cell_type": "markdown",
   "metadata": {},
   "source": [
    "Import the Label Studio SDK and set the [API key](https://labelstud.io/guide/api.html) and URL of your Label Studio instance. "
   ]
  },
  {
   "cell_type": "code",
   "execution_count": 2,
   "metadata": {},
   "outputs": [
    {
     "data": {
      "text/plain": [
       "{'status': 'UP'}"
      ]
     },
     "execution_count": 2,
     "metadata": {},
     "output_type": "execute_result"
    }
   ],
   "source": [
    "# Import the SDK and the client module\n",
    "from label_studio_sdk import Client\n",
    "\n",
    "# Define the URL where Label Studio is accessible and the API key for your user account\n",
    "LABEL_STUDIO_URL = 'http://localhost:8080'\n",
    "API_KEY = 'b7fc43a9abe38ddbebca580cd1a6fd03b3778e8a'\n",
    "\n",
    "# Connect to the Label Studio API and check the connection\n",
    "ls = Client(url=LABEL_STUDIO_URL, api_key=API_KEY)\n",
    "ls.check_connection()\n"
   ]
  },
  {
   "cell_type": "markdown",
   "metadata": {},
   "source": [
    "# Movie Scripts Project Setup\n",
    "The following cells set up a project to display samples of movie dialogues. \n",
    "\n",
    "Additionally, we have an additional `prompt` area that will allow our project to interact with an LLM using the [Label Studio ML Backend - LLM Interactive](https://github.com/HumanSignal/label-studio-ml-backend/tree/master/label_studio_ml/examples/llm_interactive) example. This gives us a prompt area in our Labeling Interface to apply LLM interactions our output categories. "
   ]
  },
  {
   "cell_type": "code",
   "execution_count": 20,
   "metadata": {},
   "outputs": [],
   "source": [
    "project = ls.start_project(\n",
    "    title='Movie Dialogus',\n",
    "    label_config='''\n",
    "<View>\n",
    "   <Style>\n",
    "    .lsf-main-content.lsf-requesting .prompt::before { content: ' loading...'; color: #808080; }\n",
    "  </Style>\n",
    "  <Paragraphs name=\"chat\" value=\"$dialogue\" layout=\"dialogue\" />\n",
    "  <Header value=\"User prompt:\" />\n",
    "  <View className=\"prompt\">\n",
    "  <TextArea name=\"prompt\" toName=\"chat\" rows=\"4\" editable=\"true\" maxSubmissions=\"1\" showSubmitButton=\"false\" />\n",
    "  </View>\n",
    "  <Header value=\"Bot answer:\"/>\n",
    "    <TextArea name=\"response\" toName=\"chat\" rows=\"4\" editable=\"true\" maxSubmissions=\"1\" showSubmitButton=\"false\" />\n",
    "\n",
    "</View>\n",
    "    '''\n",
    ")"
   ]
  },
  {
   "cell_type": "markdown",
   "metadata": {},
   "source": [
    "# Cornell Movie Dialogues Dataset\n",
    "The following cells download and prepare our dataset. We will use the [Cornell Movie Dialogue Dataseat](http://www.cs.cornell.edu/~cristian/data/cornell_movie_dialogs_corpus.zip). The transformation will organize the data for our prompt-generation interaction to output data to a text area for the re-writing we want to apply"
   ]
  },
  {
   "cell_type": "code",
   "execution_count": 21,
   "metadata": {},
   "outputs": [],
   "source": [
    "import requests\n",
    "import os\n",
    "import zipfile\n",
    "import re\n",
    "import json\n",
    "\n",
    "def download_and_unzip(url, extract_to='.'):\n",
    "    r = requests.get(url)\n",
    "    zip_file_path = os.path.join(extract_to, 'cornell_movie_dialogs_corpus.zip')\n",
    "    with open(zip_file_path, 'wb') as zip_file:\n",
    "        zip_file.write(r.content)\n",
    "    with zipfile.ZipFile(zip_file_path, 'r') as zip_file:\n",
    "        zip_file.extractall(extract_to)"
   ]
  },
  {
   "cell_type": "code",
   "execution_count": 22,
   "metadata": {},
   "outputs": [],
   "source": [
    "url = 'http://www.cs.cornell.edu/~cristian/data/cornell_movie_dialogs_corpus.zip'\n",
    "download_and_unzip(url)"
   ]
  },
  {
   "cell_type": "code",
   "execution_count": 23,
   "metadata": {},
   "outputs": [],
   "source": [
    "def read_file(file_path):\n",
    "    with open(file_path, 'r', encoding='ISO-8859-1') as file:\n",
    "        content = file.readlines()\n",
    "    return content\n",
    "\n",
    "# Parse movie lines\n",
    "def parse_movie_lines(lines_file):\n",
    "    lines_content = read_file(lines_file)\n",
    "    line_dict = {}\n",
    "    for line in lines_content:\n",
    "        parts = line.strip().split(\" +++$+++ \")\n",
    "        if len(parts) == 5:\n",
    "            line_id, character_id, movie_id, character_name, text = parts\n",
    "            line_dict[line_id] = {\"author\": character_name, \"text\": text}\n",
    "    return line_dict\n",
    "\n",
    "\n",
    "# Parse conversations and create dialogues\n",
    "def create_conversations(conversations_file, lines):\n",
    "    conversations_content = read_file(conversations_file)\n",
    "    movie_conversations = {}\n",
    "\n",
    "    for conversation in conversations_content:\n",
    "        parts = conversation.strip().split(\" +++$+++ \")\n",
    "        if len(parts) == 4:\n",
    "            character_id1, character_id2, movie_id, line_ids_str = parts\n",
    "            line_ids = json.loads(line_ids_str.replace(\"'\", '\"'))\n",
    "            dialogue = [lines[line_id] for line_id in line_ids if line_id in lines]\n",
    "\n",
    "            # Add the dialogue to the corresponding movie\n",
    "            if movie_id not in movie_conversations:\n",
    "                movie_conversations[movie_id] = []\n",
    "            movie_conversations[movie_id].append({\"dialogue\": dialogue})\n",
    "    return movie_conversations\n",
    "\n",
    "\n"
   ]
  },
  {
   "cell_type": "code",
   "execution_count": 24,
   "metadata": {},
   "outputs": [],
   "source": [
    "characters_file_path = './cornell movie-dialogs corpus/movie_characters_metadata.txt'\n",
    "movie_lines_file_path = './cornell movie-dialogs corpus/movie_lines.txt'\n",
    "conversations_file_path = './cornell movie-dialogs corpus/movie_conversations.txt'\n",
    "\n",
    "# Parsing the movie lines\n",
    "parsed_lines = parse_movie_lines(movie_lines_file_path)\n",
    "\n",
    "# Creating the dialogues\n",
    "movie_conversations = create_conversations(conversations_file_path, parsed_lines)"
   ]
  },
  {
   "cell_type": "code",
   "execution_count": null,
   "metadata": {},
   "outputs": [],
   "source": [
    "movie_conversations['m0']"
   ]
  },
  {
   "cell_type": "markdown",
   "metadata": {},
   "source": [
    "# Import data into Label Studio\n",
    "Now that we have our dataset prepared, we can import it into Label Studio. Here we are just incorporating the first movie for simplicity. "
   ]
  },
  {
   "cell_type": "code",
   "execution_count": null,
   "metadata": {},
   "outputs": [],
   "source": [
    "movie_conversations"
   ]
  },
  {
   "cell_type": "code",
   "execution_count": null,
   "metadata": {},
   "outputs": [],
   "source": [
    "# Import dialogues for the first movie\n",
    "project.import_tasks(movie_conversations['m0']) \n",
    "\n",
    "# Import all movie dialogues \n",
    "# for movie, conversations in movie_conversations.items(): \n",
    "#     project.import_tasks(conversations)"
   ]
  },
  {
   "cell_type": "code",
   "execution_count": null,
   "metadata": {},
   "outputs": [],
   "source": []
  }
 ],
 "metadata": {
  "kernelspec": {
   "display_name": "base",
   "language": "python",
   "name": "python3"
  },
  "language_info": {
   "codemirror_mode": {
    "name": "ipython",
    "version": 3
   },
   "file_extension": ".py",
   "mimetype": "text/x-python",
   "name": "python",
   "nbconvert_exporter": "python",
   "pygments_lexer": "ipython3",
   "version": "3.11.4"
  }
 },
 "nbformat": 4,
 "nbformat_minor": 2
}
