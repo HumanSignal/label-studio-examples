{
 "cells": [
  {
   "cell_type": "markdown",
   "metadata": {},
   "source": [
    "# Prompter Workflow in Label Studio for Customer Support Classification\n",
    "This notebook is designed to walk you through setting up a machine learning workflow that provides an for classifying customer support requests using Label Studio. We'll start with data preparation, create a Label Studio project with a prompt-generation workflow and ingest the data into the project. \n",
    "\n",
    "![Prompter Workflow](prompter-workflow-screenshot.png)\n"
   ]
  },
  {
   "cell_type": "markdown",
   "metadata": {},
   "source": [
    "## Setup\n",
    "Installation of necessary libraries, specifically the Label Studio SDK, which is used for creating projects and tasks in Label Studio."
   ]
  },
  {
   "cell_type": "code",
   "execution_count": null,
   "metadata": {},
   "outputs": [],
   "source": [
    "!pip install label-studio-sdk"
   ]
  },
  {
   "cell_type": "markdown",
   "metadata": {},
   "source": [
    "Import the Label Studio SDK and set the [API key](https://labelstud.io/guide/api.html) and URL of your Label Studio instance. "
   ]
  },
  {
   "cell_type": "code",
   "execution_count": 30,
   "metadata": {},
   "outputs": [
    {
     "data": {
      "text/plain": [
       "{'status': 'UP'}"
      ]
     },
     "execution_count": 30,
     "metadata": {},
     "output_type": "execute_result"
    }
   ],
   "source": [
    "# Import the SDK and the client module\n",
    "from label_studio_sdk import Client\n",
    "\n",
    "# Define the URL where Label Studio is accessible and the API key for your user account\n",
    "LABEL_STUDIO_URL = 'http://localhost:8080'\n",
    "API_KEY = '<YOUR_LS_API_KEY>'\n",
    "\n",
    "# Connect to the Label Studio API and check the connection\n",
    "ls = Client(url=LABEL_STUDIO_URL, api_key=API_KEY)\n",
    "ls.check_connection()\n"
   ]
  },
  {
   "cell_type": "markdown",
   "metadata": {},
   "source": [
    "## Customer Service Dataset\n",
    "The following cells download and prepare our dataset. We will use the [Task-Oriented Dialogue dataset](https://github.com/amazon-science/dstc11-track2-intent-induction/tree/main). The transformation process will organize the data for our simple chat multi-class labeling example. "
   ]
  },
  {
   "cell_type": "code",
   "execution_count": 49,
   "metadata": {},
   "outputs": [],
   "source": [
    "import requests\n",
    "\n",
    "# URL of the JSONL file to download\n",
    "file_url = \"https://raw.githubusercontent.com/amazon-science/dstc11-track2-intent-induction/main/dstc11/development/dialogues.jsonl\"\n",
    "# Local path where the file will be saved\n",
    "input_file_path = \"dialogues.jsonl\"\n",
    "\n",
    "# Download the file\n",
    "response = requests.get(file_url)\n",
    "\n",
    "# Ensure the request was successful\n",
    "if response.status_code == 200:\n",
    "    # Open the local file for writing in binary mode\n",
    "    with open(input_file_path, 'wb') as file:\n",
    "        # Write the content of the response to the file\n",
    "        file.write(response.content)\n",
    "else:\n",
    "    print(f\"Failed to download the file. Status code: {response.status_code}\")\n"
   ]
  },
  {
   "cell_type": "code",
   "execution_count": 50,
   "metadata": {},
   "outputs": [
    {
     "name": "stdout",
     "output_type": "stream",
     "text": [
      "Transformed 948 dialogues.\n"
     ]
    }
   ],
   "source": [
    "import json\n",
    "\n",
    "# Reset the approach to correctly structure the dataset based on the inspected format\n",
    "transformed_dialogues = []\n",
    "\n",
    "# Process each dialogue and its turns\n",
    "with open(input_file_path, 'r') as infile:\n",
    "    for line in infile:\n",
    "        # Parse the JSON object from the line\n",
    "        dialogue = json.loads(line)\n",
    "        dialogue_transformed = {'dialogue': []}\n",
    "        \n",
    "        # Process each turn in the dialogue\n",
    "        for turn in dialogue['turns']:\n",
    "            speaker_role = turn['speaker_role']\n",
    "            utterance = turn['utterance']\n",
    "            # Append the turn to the dialogue\n",
    "            dialogue_transformed['dialogue'].append({'author': speaker_role, 'text': utterance})\n",
    "        \n",
    "        # Append the transformed dialogue to the list\n",
    "        transformed_dialogues.append(dialogue_transformed)\n",
    "\n",
    "print(f\"Transformed {len(transformed_dialogues)} dialogues.\")"
   ]
  },
  {
   "cell_type": "code",
   "execution_count": 51,
   "metadata": {},
   "outputs": [
    {
     "name": "stdout",
     "output_type": "stream",
     "text": [
      "Possible intents in dialogues: 22\n"
     ]
    }
   ],
   "source": [
    "# List possible intents\n",
    "# Initialize a set to hold all unique intents\n",
    "unique_intents = set()\n",
    "\n",
    "# Process each dialogue and its turns to extract intents\n",
    "with open(input_file_path, 'r') as infile:\n",
    "    for line in infile:\n",
    "        # Parse the JSON object from the line\n",
    "        dialogue = json.loads(line)\n",
    "        \n",
    "        # Process each turn in the dialogue for intents\n",
    "        for turn in dialogue['turns']:\n",
    "            # Extract and add the intents to the set\n",
    "            if 'intents' in turn:  # Check if the intents field exists\n",
    "                for intent in turn['intents']:\n",
    "                    unique_intents.add(intent)\n",
    "\n",
    "# Convert the set to a sorted list for better readability\n",
    "sorted_unique_intents = sorted(list(unique_intents))\n",
    "\n",
    "print(f\"Possible intents in dialogues: {len(sorted_unique_intents)}\")"
   ]
  },
  {
   "cell_type": "markdown",
   "metadata": {},
   "source": [
    "We can view the different labels assigned to the dataset below. We will use these labels to create our classes in the Label Studio project setup. "
   ]
  },
  {
   "cell_type": "code",
   "execution_count": 52,
   "metadata": {},
   "outputs": [
    {
     "name": "stdout",
     "output_type": "stream",
     "text": [
      "['AddDependent', 'CancelAutomaticBilling', 'CancelPlan', 'ChangeAddress', 'ChangePlan', 'ChangeSecurityQuestion', 'CheckAccountBalance', 'CheckPaymentStatus', 'CreateAccount', 'EnrollInPlan', 'FileClaim', 'FindAgent', 'GetPolicyNumber', 'GetQuote', 'PayBill', 'RemoveDependent', 'ReportAutomobileAccident', 'ReportBillingIssue', 'RequestProofOfInsurance', 'ResetPassword', 'UpdateBillingFrequency', 'UpdatePaymentPreference']\n"
     ]
    }
   ],
   "source": [
    "print(sorted_unique_intents)"
   ]
  },
  {
   "cell_type": "markdown",
   "metadata": {},
   "source": [
    "# Dialogue Project Setup\n",
    "The following cells set up a new project in Label Studio specifically for this classification task. This section explains how to dynamically generate choice elements based on identified intents in the dataset.\n",
    "\n",
    "Additionally, we have an additional `prompt` area that will allow our project to interact with an LLM using the [Label Studio ML Backend - LLM Interactive](https://github.com/HumanSignal/label-studio-ml-backend/tree/master/label_studio_ml/examples/llm_interactive) example. This gives us a prompt area in our Labeling Interface to apply LLM interactions our output categories. "
   ]
  },
  {
   "cell_type": "code",
   "execution_count": 39,
   "metadata": {},
   "outputs": [],
   "source": [
    "# Generate choice XML elements dynamically from the sorted_unique_intents list\n",
    "choices_xml = '\\n'.join([f'      <Choice value=\"{intent}\" />' for intent in sorted_unique_intents])\n",
    "\n",
    "project = ls.start_project(\n",
    "    title='Finance Support Chats',\n",
    "    label_config=f'''\n",
    "<View>\n",
    "   <Style>\n",
    "    .lsf-main-content.lsf-requesting .prompt::before {{ content: ' loading...'; color: #808080; }}\n",
    "  </Style>\n",
    "  <Paragraphs name=\"chat\" value=\"$dialogue\" layout=\"dialogue\" />\n",
    "  <Header value=\"User prompt:\" />\n",
    "  <View className=\"prompt\">\n",
    "  <TextArea name=\"prompt\" toName=\"chat\" rows=\"4\" editable=\"true\" maxSubmissions=\"1\" showSubmitButton=\"false\" />\n",
    "  </View>\n",
    "  <Header value=\"Bot answer:\"/>\n",
    "    <TextArea name=\"response\" toName=\"chat\" rows=\"4\" editable=\"true\" maxSubmissions=\"1\" showSubmitButton=\"false\" />\n",
    "\n",
    "    <Choices name=\"response2\" toName=\"chat\" choice=\"multiple\">\n",
    "{choices_xml}\n",
    "  \t</Choices>\n",
    "</View>\n",
    "    '''\n",
    ")"
   ]
  },
  {
   "cell_type": "markdown",
   "metadata": {},
   "source": [
    "## Ingest into Label Studio\n",
    "We can now ingest the prepared data into the newly created Label Studio project."
   ]
  },
  {
   "cell_type": "code",
   "execution_count": null,
   "metadata": {},
   "outputs": [],
   "source": [
    "# Import dialogues for the first movie\n",
    "project.import_tasks(transformed_dialogues) "
   ]
  },
  {
   "cell_type": "markdown",
   "metadata": {},
   "source": [
    "Here is a sample labeling prompt to get you started. \n",
    "\n",
    "```text\n",
    "Label the dialogue according to the appropriate labels. separating them. Make sure there are no duplicates and separate the classes with a new line.   ['AskAboutATMFees', 'AskAboutCardArrival', 'AskAboutCashDeposits', 'AskAboutCreditScore', 'AskAboutTransferFees', 'AskAboutTransferTime', 'CheckAccountBalance', 'CheckAccountInterestRate', 'CheckTransactionHistory', 'CloseBankAccount', 'DisputeCharge', 'ExternalWireTransfer', 'FindATM', 'FindBranch', 'GetAccountInfo', 'GetBranchHours', 'GetBranchInfo', 'GetWithdrawalLimit', 'InternalFundsTransfer', 'OpenBankingAccount', 'OpenCreditCard', 'OrderChecks', 'ReportLostStolenCard', 'ReportNotice', 'RequestNewCard', 'SetUpOnlineBanking', 'UpdateEmail', 'UpdatePhoneNumber', 'UpdateStreetAddress'] Output the labels only with a newline character between each label.\n",
    "```"
   ]
  },
  {
   "cell_type": "code",
   "execution_count": null,
   "metadata": {},
   "outputs": [],
   "source": []
  }
 ],
 "metadata": {
  "kernelspec": {
   "display_name": "base",
   "language": "python",
   "name": "python3"
  },
  "language_info": {
   "codemirror_mode": {
    "name": "ipython",
    "version": 3
   },
   "file_extension": ".py",
   "mimetype": "text/x-python",
   "name": "python",
   "nbconvert_exporter": "python",
   "pygments_lexer": "ipython3",
   "version": "3.11.4"
  }
 },
 "nbformat": 4,
 "nbformat_minor": 2
}
