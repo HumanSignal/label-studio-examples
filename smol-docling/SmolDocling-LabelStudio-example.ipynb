{
 "cells": [
  {
   "cell_type": "code",
   "execution_count": null,
   "id": "b8d87ba1-2b2d-48fc-835e-36fcc9adb0ac",
   "metadata": {
    "scrolled": true
   },
   "outputs": [],
   "source": [
    "# Install necessary packages\n",
    "!pip install --upgrade label-studio-sdk \n",
    "!pip install docling"
   ]
  },
  {
   "cell_type": "code",
   "execution_count": 1,
   "id": "070b31e1-57d5-4db8-804c-62b35420a2dd",
   "metadata": {},
   "outputs": [],
   "source": [
    "### API Keys and URLS \n",
    "\n",
    "# URL of your Label Studio Instance\n",
    "label_studio_url = \"http://localhost:8080\" \n",
    "# Label Studio API Key (in your user settings)\n",
    "label_studio_api_key = \n"
   ]
  },
  {
   "cell_type": "markdown",
   "id": "5bfcbaa8-0022-4f00-974c-aa4c1c36cd80",
   "metadata": {},
   "source": [
    "## Create Label Studio Project for OCR"
   ]
  },
  {
   "cell_type": "code",
   "execution_count": 2,
   "id": "4492be16-a1f6-411b-816e-690bd99d3e5c",
   "metadata": {},
   "outputs": [],
   "source": [
    "from label_studio_sdk.client import LabelStudio\n",
    "\n",
    "# Connect to Label Studio \n",
    "ls = LabelStudio(\n",
    "    base_url=label_studio_url,  \n",
    "    api_key=label_studio_api_key,\n",
    ")"
   ]
  },
  {
   "cell_type": "code",
   "execution_count": 3,
   "id": "81ea1fbb-2b86-4d66-83f1-d813e7951b04",
   "metadata": {},
   "outputs": [],
   "source": [
    "# Labeling Config for OCR using Multi-page document annotation\n",
    "# We draw bounding boxes over the text in the image, and then put the text inside the bounding box\n",
    "\n",
    "labeling_config = \"\"\"\n",
    "<View>\n",
    "  <Image name=\"image\" valueList=\"$pages\"/>\n",
    "  <Labels name=\"label\" toName=\"image\">\n",
    "    <Label value=\"Body\" background=\"green\"/>\n",
    "    <Label value=\"Heading\" background=\"blue\"/>\n",
    "    <Label value=\"Metadata\" background=\"pink\"/>\n",
    "\n",
    "  </Labels>\n",
    "  <Rectangle name=\"bbox\" toName=\"image\" strokeWidth=\"3\" perRegion=\"true\"/>\n",
    "  <TextArea name=\"transcription\" toName=\"image\"\n",
    "            editable=\"true\"\n",
    "            perRegion=\"true\"\n",
    "            required=\"true\"\n",
    "            maxSubmissions=\"1\"\n",
    "            rows=\"5\"\n",
    "            placeholder=\"Recognized Text\"\n",
    "            displayMode=\"region-list\"\n",
    "            />\n",
    "</View>\n",
    "\"\"\""
   ]
  },
  {
   "cell_type": "code",
   "execution_count": 4,
   "id": "bc28acfe-b1f0-46ae-835e-b607e213c9d1",
   "metadata": {},
   "outputs": [],
   "source": [
    "# Create Label Studio Project\n",
    "project = ls.projects.create(\n",
    "    title=\"SmolDocling\",\n",
    "    description=\"OCR using the new SmolDocling model\",\n",
    "    label_config=labeling_config\n",
    ")\n"
   ]
  },
  {
   "cell_type": "markdown",
   "id": "535395f0-d0d0-489c-acbd-2ca722a0faaa",
   "metadata": {},
   "source": [
    "## Set up sample task "
   ]
  },
  {
   "cell_type": "code",
   "execution_count": 5,
   "id": "507f5996-d500-42ba-9908-02ebd9456889",
   "metadata": {},
   "outputs": [],
   "source": [
    "# This is a single sample task: a 3 page document. If you want to replace with your own task, replace the pages list \n",
    "# with a list of URLs to your document in iamge form. \n",
    "# You can make this a loop to add multiple documents! \n",
    "\n",
    "sample_task = {\n",
    "    \"pages\": [\n",
    "      \"https://htx-pub.s3.amazonaws.com/demo/images/demo_stock_purchase_agreement/0001.jpg\",\n",
    "      \"https://htx-pub.s3.amazonaws.com/demo/images/demo_stock_purchase_agreement/0002.jpg\",\n",
    "      \"https://htx-pub.s3.amazonaws.com/demo/images/demo_stock_purchase_agreement/0003.jpg\"\n",
    "    ]\n",
    "}"
   ]
  },
  {
   "cell_type": "code",
   "execution_count": 6,
   "id": "f53bf48a-65ed-416a-9a32-5c32256a8fb9",
   "metadata": {},
   "outputs": [],
   "source": [
    "# Upload task to Label Studio \n",
    "task = ls.tasks.create(\n",
    "    project=project.id,\n",
    "    data=sample_task\n",
    ")"
   ]
  },
  {
   "cell_type": "markdown",
   "id": "7161138b-ce36-496a-a94b-497bfe85f711",
   "metadata": {},
   "source": [
    "## Do OCR with SmolDocling"
   ]
  },
  {
   "cell_type": "code",
   "execution_count": 7,
   "id": "b397a08d-dede-4a4d-9e01-8cd5259d4e4a",
   "metadata": {},
   "outputs": [],
   "source": [
    "# Helper Function \n",
    "\n",
    "def convert_bbox_to_ls(bbox, width, height): \n",
    "    \"\"\"\n",
    "    BBoxes in SmolDocling are given in LTRB format. We need to convert to the format Label Studio expects:\n",
    "    the top left coordinate as a percentage of the total image, and the width and height as percents. \n",
    "\n",
    "    Args: \n",
    "        bbox: the bbox dictionary from SmolDocling's response object\n",
    "        width: the width of the image in pixles \n",
    "        height: the height of the image in pixles \n",
    "\n",
    "    Returns: a dictionary containing all the information for the value field in Label Studio for Rectangle Labels.\n",
    "    \"\"\"\n",
    "    #convert bbox to LS format\n",
    "    bbox_x = (bbox[\"l\"] / width) * 100 \n",
    "    bbox_y = 100 - ((bbox[\"t\"] / height) * 100)\n",
    "    bbox_width = ((bbox[\"r\"] - bbox[\"l\"]) / width) * 100\n",
    "    bbox_height = ((bbox[\"t\"]- bbox[\"b\"]) / height) * 100\n",
    "\n",
    "    return {\"x\": bbox_x, \n",
    "            \"y\": bbox_y, \n",
    "            \"width\" : bbox_width, \n",
    "            \"height\" : bbox_height, \n",
    "           \"rectanglelabels\": [\"Text\"]}\n"
   ]
  },
  {
   "cell_type": "code",
   "execution_count": 8,
   "id": "2f19bde5-1bd3-44af-a410-925adad88446",
   "metadata": {},
   "outputs": [],
   "source": [
    "# Helper Function\n",
    "from PIL import Image\n",
    "import requests\n",
    "from io import BytesIO\n",
    "\n",
    "def load_image_from_url(url):\n",
    "    \"\"\"Loads an image from a URL using PIL.\n",
    "\n",
    "    Args:\n",
    "        url: The URL of the image.\n",
    "\n",
    "    Returns:\n",
    "        An Image object if successful, None otherwise.\n",
    "    \"\"\"\n",
    "    try:\n",
    "        response = requests.get(url, stream=True)\n",
    "        response.raise_for_status()  # Raise HTTPError for bad responses (4xx or 5xx)\n",
    "        image = Image.open(BytesIO(response.content))\n",
    "        return image\n",
    "    except requests.exceptions.RequestException as e:\n",
    "        print(f\"Error fetching image from {url}: {e}\")\n",
    "        return None\n",
    "    except Exception as e:\n",
    "         print(f\"Error opening image from {url}: {e}\")\n",
    "         return None"
   ]
  },
  {
   "cell_type": "code",
   "execution_count": 9,
   "id": "4ba8c969-fd16-4fdb-b886-47274bf1ac90",
   "metadata": {},
   "outputs": [],
   "source": [
    "def do_ocr(task_pages):\n",
    "    \"\"\"\n",
    "    Do the OCR on the list of images. \n",
    "\n",
    "    Args: \n",
    "        task_pages: a list of the urls for each image in the task\n",
    "\n",
    "    Output: \n",
    "    \n",
    "    \"\"\"\n",
    "    predictions = []\n",
    "    for idx, page in enumerate(task_pages):\n",
    "        print(f\"processing page {idx + 1} of {len(task_pages)}\")\n",
    "        # Load the image as PIL to get the original height and width\n",
    "        image = load_image_from_url(page)\n",
    "        width, height = image.size\n",
    "\n",
    "        # Convert from image to SmolDocling document \n",
    "        print(\"Doing ocr\")\n",
    "        converter = DocumentConverter()\n",
    "        result = converter.convert(page)\n",
    "        output_json = result.document.export_to_dict()\n",
    "\n",
    "        # Process output josn\n",
    "        print(\"Processing results\")\n",
    "        for recognized_text in output_json[\"texts\"]:\n",
    "            bbox = recognized_text[\"prov\"][0][\"bbox\"]\n",
    "            bbox_dict = convert_bbox_to_ls(bbox, width, height)\n",
    "            \n",
    "            text = recognized_text[\"text\"]\n",
    "            pred = {\"item_index\": idx, \"bbox_value\" : bbox_dict, \"text_value\": text}\n",
    "            predictions.append(pred)\n",
    "            \n",
    "    return predictions \n",
    "            \n",
    "        \n",
    "        "
   ]
  },
  {
   "cell_type": "markdown",
   "id": "29f6ec03-011f-4153-8f94-0a61f414b9ca",
   "metadata": {},
   "source": [
    "## Create SmolDocling Predictions and Upload to Label Studio"
   ]
  },
  {
   "cell_type": "code",
   "execution_count": null,
   "id": "3c017e90-c66e-4096-ad24-a3917fee70bd",
   "metadata": {
    "scrolled": true
   },
   "outputs": [],
   "source": [
    "# main method \n",
    "import time\n",
    "import os\n",
    "from PIL import Image\n",
    "from docling.document_converter import DocumentConverter\n",
    "\n",
    "\n",
    "# Get project information for uploading predictions \n",
    "upload_project = ls.projects.get(id=project.id)\n",
    "li = upload_project.get_label_interface()\n",
    "\n",
    "\n",
    "# for every task in the project, we'll get the SmolDocling predictions and upload them\n",
    "for task in ls.tasks.list(project=upload_project.id):\n",
    "    task_id = int(task.id)\n",
    "    print(f\"processing task {task_id}\")\n",
    "    task_pages = task.data[\"pages\"]\n",
    "    task_predictions = do_ocr(task_pages)\n",
    "    print(\"OCR Completed\")\n",
    "    print(\"Creating Predictions for Label Studio\")\n",
    "    results = [\n",
    "        {\n",
    "            \"id\" : f\"region{i}\", \n",
    "            \"from_name\" : \"label\",\n",
    "            \"to_name\" : \"image\",\n",
    "            \"type\": \"rectanglelabels\",\n",
    "            \"value\" : p[\"bbox_value\"],\n",
    "            \"item_index\" : p[\"item_index\"],\n",
    "\n",
    "        }\n",
    "    for i, p in enumerate(task_predictions)]\n",
    "    results.extend([{\n",
    "        \"id\": f\"region{i}\", \n",
    "        \"from_name\" : \"transcription\", \n",
    "        \"to_name\" : \"image\", \n",
    "        \"type\" : \"textarea\", \n",
    "        \"value\" : {\n",
    "            \"text\" : [p[\"text_value\"]]\n",
    "        },\n",
    "        \"item_index\": p[\"item_index\"]\n",
    "    } for i, p in enumerate(task_predictions)])\n",
    "        \n",
    "    ls.predictions.create(task=task_id, result=results, model_version=\"SmolDocling\")\n",
    "    print(f\"prediction for task {task_id} uploaded\")"
   ]
  },
  {
   "cell_type": "code",
   "execution_count": null,
   "id": "919a8218-1d23-45a5-b6d7-3a758660436c",
   "metadata": {},
   "outputs": [],
   "source": []
  }
 ],
 "metadata": {
  "kernelspec": {
   "display_name": "Python 3 (ipykernel)",
   "language": "python",
   "name": "python3"
  },
  "language_info": {
   "codemirror_mode": {
    "name": "ipython",
    "version": 3
   },
   "file_extension": ".py",
   "mimetype": "text/x-python",
   "name": "python",
   "nbconvert_exporter": "python",
   "pygments_lexer": "ipython3",
   "version": "3.12.9"
  }
 },
 "nbformat": 4,
 "nbformat_minor": 5
}
