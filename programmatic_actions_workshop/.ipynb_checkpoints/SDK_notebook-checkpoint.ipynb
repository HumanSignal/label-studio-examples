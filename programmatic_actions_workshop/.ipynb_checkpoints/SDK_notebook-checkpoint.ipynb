{
 "cells": [
  {
   "cell_type": "markdown",
   "id": "870a8056-173c-4586-9a4e-ce23508dd7b1",
   "metadata": {},
   "source": [
    "## Intro to Programmatic Actions with Label Studio -- SDK"
   ]
  },
  {
   "cell_type": "code",
   "execution_count": null,
   "id": "bc135b4f-6385-4164-9211-376af71b7f59",
   "metadata": {},
   "outputs": [],
   "source": [
    "!pip install label-studio-sdk"
   ]
  },
  {
   "cell_type": "code",
   "execution_count": 205,
   "id": "c066e663-a7ae-4077-a1d0-55a0439bb3d1",
   "metadata": {},
   "outputs": [],
   "source": [
    "# credentials and setup \n",
    "label_studio_url = \"http://app.heartex.com\" \n",
    "label_studio_api_key = \"Your Label Studio API Key\""
   ]
  },
  {
   "cell_type": "markdown",
   "id": "0f8debe7",
   "metadata": {},
   "source": [
    "## Step 0: Download and Prep Your Data"
   ]
  },
  {
   "cell_type": "code",
   "execution_count": 206,
   "id": "6678f533-b167-460f-954e-5e5a031db3d4",
   "metadata": {},
   "outputs": [],
   "source": [
    "data = [\n",
    "    {\"image\": \"https://htx-pub.s3.us-east-1.amazonaws.com/demo_pdf/rag_0.jpg\"},\n",
    "    {\"image\": \"https://htx-pub.s3.us-east-1.amazonaws.com/demo_pdf/rag_1.jpg\"},\n",
    "    {\"image\": \"https://htx-pub.s3.us-east-1.amazonaws.com/demo_pdf/rag_2.jpg\"},\n",
    "    {\"image\": \"https://htx-pub.s3.us-east-1.amazonaws.com/demo_pdf/rag_3.jpg\"},\n",
    "    {\"image\": \"https://htx-pub.s3.us-east-1.amazonaws.com/demo_pdf/rag_4.jpg\"}\n",
    "]"
   ]
  },
  {
   "cell_type": "markdown",
   "id": "2aa46812-adec-480d-ab9f-53588f7c5e63",
   "metadata": {},
   "source": [
    "## Step 1: Create a Label Studio Client"
   ]
  },
  {
   "cell_type": "code",
   "execution_count": 207,
   "id": "e10ab73f-c7ba-4e3f-aeda-57a2eb1d2533",
   "metadata": {},
   "outputs": [],
   "source": [
    "from label_studio_sdk.client import LabelStudio\n",
    "\n",
    "# the Label Studio Client is the main entry point for the SDK.\n",
    "ls = LabelStudio(\n",
    "    base_url=label_studio_url,  \n",
    "    api_key=label_studio_api_key,\n",
    ")"
   ]
  },
  {
   "cell_type": "markdown",
   "id": "695edc66",
   "metadata": {},
   "source": [
    "## Step 2: Creating and Intitalizing a Project"
   ]
  },
  {
   "cell_type": "code",
   "execution_count": null,
   "id": "add0ccb4",
   "metadata": {},
   "outputs": [],
   "source": [
    "from label_studio_sdk.label_interface import LabelInterface\n",
    "from label_studio_sdk.label_interface.create import labels, choices\n",
    "\n",
    "# We can define the labeling config in one of two ways: \n",
    "# 1. a string\n",
    "label_config = \"\"\"\n",
    "<View>    \n",
    "   <Image name=\"image\" value=\"$image\" zoom=\"true\" zoomControl=\"false\"\n",
    "         rotateControl=\"true\" width=\"100%\" height=\"100%\"\n",
    "         maxHeight=\"auto\" maxWidth=\"auto\"/>\n",
    "   \n",
    "   <RectangleLabels name=\"bbox\" toName=\"image\" strokeWidth=\"1\" smart=\"true\">\n",
    "      <Label value=\"Heading\" background=\"green\"/>\n",
    "      <Label value=\"Paragraph\" background=\"blue\"/>\n",
    "   </RectangleLabels>\n",
    "\n",
    "   <TextArea name=\"transcription\" toName=\"image\" \n",
    "   editable=\"true\" perRegion=\"true\" required=\"false\" \n",
    "   maxSubmissions=\"1\" rows=\"5\" placeholder=\"Recognized Text\" \n",
    "   displayMode=\"region-list\"/>\n",
    "</View>\n",
    "\"\"\"\n",
    "\n",
    "# 2. using the LabelInterface. Maps the fromName to the control tag type\n",
    "label_config2 = LabelInterface.create({\n",
    "      \"image\": \"Image\",\n",
    "      \"transcription\" : \"TextArea\"\n",
    "    })\n",
    "\n",
    "print(label_config2)\n",
    "\n",
    "# Projects need a title and a labeling config, at a minimum. \n",
    "proj = ls.projects.create(\n",
    "    title=\"OCR for RAG PDF\",\n",
    "    label_config=label_config, \n",
    "    workspace=93723, \n",
    "    color=\"#00FFFF\",\n",
    ")\n",
    "pid = proj.id\n",
    "print(f\"Created project {pid} in workspace {proj.workspace}\")"
   ]
  },
  {
   "cell_type": "markdown",
   "id": "c5b69160-e2f4-4faf-a7d8-03c65dc7ad1d",
   "metadata": {},
   "source": [
    "## Step 3: Add your Data"
   ]
  },
  {
   "cell_type": "code",
   "execution_count": null,
   "id": "a1dc98a9-a770-4c56-abf5-2c8bb2c355f2",
   "metadata": {},
   "outputs": [],
   "source": [
    "# There are a few ways to upload your data to Label Studio\n",
    "\n",
    "# 1. As a CSV: \n",
    "# task_ids = project.import_tasks('/full/path/to/your_tasks.csv')\n",
    "# print('Imported task IDs:', task_ids)\n",
    "\n",
    "\n",
    "# 2 As a JSON: \n",
    "ls.projects.import_tasks(\n",
    "    id=pid,\n",
    "    request=data\n",
    ")\n"
   ]
  },
  {
   "cell_type": "markdown",
   "id": "dff142a4-15c2-4655-a2dd-97d420ea67db",
   "metadata": {},
   "source": [
    "### Now, you're ready to label! "
   ]
  },
  {
   "cell_type": "markdown",
   "id": "dfa1743d-7386-430f-af06-58895c96475b",
   "metadata": {},
   "source": [
    "## Step 4: Chaining Projects Together"
   ]
  },
  {
   "cell_type": "code",
   "execution_count": 167,
   "id": "ae19abb7-78dd-49e5-a9af-681a2fd8387d",
   "metadata": {},
   "outputs": [],
   "source": [
    "# First, we create a new project as we did before\n",
    "\n",
    "# 1. a string\n",
    "ner_label_config = \"\"\"\n",
    "<View>\n",
    "  \t<Text name=\"text\" value=\"$text\" />\n",
    "    <Labels name=\"NER\" toName=\"text\">\n",
    "        <Label value=\"PER\" />\n",
    "        <Label value=\"ORG\" />\n",
    "  </Labels>\n",
    "</View>\n",
    "\"\"\"\n",
    "\n",
    "# Projects need a title and a labeling config, at a minimum. \n",
    "proj2 = ls.projects.create(\n",
    "    title=\"NER on OCR\",\n",
    "    description=\"\",\n",
    "    label_config=ner_label_config, \n",
    "    workspace=93723, \n",
    "    color=\"#800080\",\n",
    ")\n",
    "p2id = proj2.id"
   ]
  },
  {
   "cell_type": "code",
   "execution_count": null,
   "id": "ab8651a2-5c89-4e8f-9dc4-28622384285d",
   "metadata": {},
   "outputs": [],
   "source": [
    "# Now, we can export data from our first project and upload it to our second project\n",
    "\n",
    "tasks = ls.tasks.list(project=proj.id)\n",
    "\n",
    "#Let's see what a task annotation looks like\n",
    "\n",
    "#IF TASK HAS ANNOTATIONS \n",
    "for i, task in enumerate(tasks):\n",
    "    text = \"\"\n",
    "    # You can access annotations in Label Studio JSON format\n",
    "    if i == 0:\n",
    "        # print just the first task for investigation\n",
    "        print(f\"TASK {i}\")\n",
    "        print(json.dumps(task.annotations[0], indent=4))\n",
    "    for a in task.annotations: \n",
    "        results = a[\"result\"]\n",
    "        for r in results: \n",
    "            if \"text\" in r[\"value\"].keys():\n",
    "                text = text + r[\"value\"][\"text\"][0]\n",
    "    ls.tasks.create(\n",
    "    project=p2id,\n",
    "    data={'text': text}\n",
    ")"
   ]
  },
  {
   "cell_type": "markdown",
   "id": "88671f2a-c6b0-4c7a-8fff-896b420826ce",
   "metadata": {},
   "source": [
    "## Step 4: Adding Preannotations"
   ]
  },
  {
   "cell_type": "code",
   "execution_count": null,
   "id": "5315459b-4ec4-4dba-873f-9a42f52cfeb1",
   "metadata": {},
   "outputs": [],
   "source": [
    "import json\n",
    "\n",
    "print(p2id)\n",
    "project = ls.projects.get(id=p2id)\n",
    "li = project.get_label_interface()\n",
    "\n",
    "sample_pred = li.generate_sample_prediction()\n",
    "sample_pred = json.dumps(sample_pred, indent=4)\n",
    "print(sample_pred)\n"
   ]
  },
  {
   "cell_type": "code",
   "execution_count": 175,
   "id": "dcb55d06-1a67-409f-bec0-c05c3a910ae3",
   "metadata": {},
   "outputs": [],
   "source": [
    "import random\n",
    "from label_studio_sdk.label_interface.objects import PredictionValue\n",
    "\n",
    "tasks = ls.tasks.list(project=p2id)\n",
    "for task in tasks:\n",
    "    predicted_slogan = {\"from_name\": \"NER\",\n",
    "                        \"to_name\": \"text\",\n",
    "                        \"type\": \"labels\",\n",
    "                        \"value\": {\n",
    "                            \"start\": 10,\n",
    "                            \"end\": 20,\n",
    "                            \"labels\": [\n",
    "                                \"PER\"\n",
    "                            ]\n",
    "                        }\n",
    "                       }\n",
    "    prediction = PredictionValue(\n",
    "        model_version='random-ai-prediction',\n",
    "        score=0.99,\n",
    "        result=[predicted_label, predicted_slogan]\n",
    "    )\n",
    "    ls.predictions.create(task=task.id, **prediction.model_dump())\n"
   ]
  }
 ],
 "metadata": {
  "kernelspec": {
   "display_name": "Python 3 (ipykernel)",
   "language": "python",
   "name": "python3"
  },
  "language_info": {
   "codemirror_mode": {
    "name": "ipython",
    "version": 3
   },
   "file_extension": ".py",
   "mimetype": "text/x-python",
   "name": "python",
   "nbconvert_exporter": "python",
   "pygments_lexer": "ipython3",
   "version": "3.10.14"
  }
 },
 "nbformat": 4,
 "nbformat_minor": 5
}
